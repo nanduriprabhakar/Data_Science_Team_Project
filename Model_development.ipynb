{
 "cells": [
  {
   "cell_type": "code",
   "execution_count": 4,
   "metadata": {},
   "outputs": [
    {
     "name": "stderr",
     "output_type": "stream",
     "text": [
      "C:\\Users\\lenovo\\Anaconda3\\lib\\site-packages\\matplotlib\\pyplot.py:524: RuntimeWarning: More than 20 figures have been opened. Figures created through the pyplot interface (`matplotlib.pyplot.figure`) are retained until explicitly closed and may consume too much memory. (To control this warning, see the rcParam `figure.max_open_warning`).\n",
      "  max_open_warning, RuntimeWarning)\n"
     ]
    }
   ],
   "source": [
    "import pandas as pd\n",
    "import numpy as np\n",
    "import matplotlib.pyplot as plt\n",
    "from testing_initial_analysis import means_for_file2\n",
    "%matplotlib inline"
   ]
  },
  {
   "cell_type": "code",
   "execution_count": 5,
   "metadata": {
    "collapsed": true
   },
   "outputs": [],
   "source": [
    "raw_data_test=pd.read_csv('file_test_copy.csv',index_col='time')"
   ]
  },
  {
   "cell_type": "code",
   "execution_count": 6,
   "metadata": {
    "collapsed": true
   },
   "outputs": [],
   "source": [
    "probabilities_df = pd.DataFrame({'No Failure':0.5*100,'leaf1':1/24*100,'leaf2':1/24*100,'leaf3':1/24*100,'leaf4':1/24*100,'leaf5':1/24*100,'leaf6':1/24*100,'leaf7':1/24*100,'leaf8':1/24*100,'spine1':1/24*100,'spine2':1/24*100,'spine3':1/24*100,'spine4':1/24*100},index=[0])"
   ]
  },
  {
   "cell_type": "code",
   "execution_count": 7,
   "metadata": {},
   "outputs": [
    {
     "data": {
      "image/png": "[encoded data removed]",
      "text/plain": [
       "<matplotlib.figure.Figure at 0xa7bb588>"
      ]
     },
     "metadata": {},
     "output_type": "display_data"
    }
   ],
   "source": [
    "bargraph=probabilities_df.iloc[-1].plot(kind='bar', title=\"Failure Probabilites(%)\", figsize=(10,5), legend=True, fontsize=12)"
   ]
  },
  {
   "cell_type": "code",
   "execution_count": 8,
   "metadata": {
    "collapsed": true
   },
   "outputs": [],
   "source": [
    "thresholds_for_no_failure=np.array([0,1.67,1.52,1.66,1.59,1.67,2.34,1.96,1.75,1.77,2.02,5.27,1.99])"
   ]
  },
  {
   "cell_type": "code",
   "execution_count": 9,
   "metadata": {
    "collapsed": true
   },
   "outputs": [],
   "source": [
    "thresholds_for_disturbance=np.array([0,20.528117,19.28161,14.87065,18.99584,1.665798,2.688994,5.152617,1.847266,13.96025,20.60913,19.35822,23.86123])"
   ]
  },
  {
   "cell_type": "code",
   "execution_count": 10,
   "metadata": {
    "collapsed": true
   },
   "outputs": [],
   "source": [
    "input_and_output_test=pd.DataFrame(columns=['leaf1','leaf2','leaf3','leaf4','leaf5','leaf6','leaf7','leaf8','spine1','spine2','spine3','spine4'],index=raw_data_test.index)"
   ]
  },
  {
   "cell_type": "code",
   "execution_count": 11,
   "metadata": {
    "collapsed": true
   },
   "outputs": [],
   "source": [
    "for i in input_and_output_test:\n",
    "    input_and_output_test[i] = raw_data_test[i+' input packet rate'] + raw_data_test[i+' output packet rate']"
   ]
  },
  {
   "cell_type": "code",
   "execution_count": 40,
   "metadata": {},
   "outputs": [
    {
     "data": {
      "image/png": "[encoded data removed]",
      "text/plain": [
       "<matplotlib.figure.Figure at 0xee1fcc0>"
      ]
     },
     "metadata": {},
     "output_type": "display_data"
    }
   ],
   "source": [
    "percentage_change_for_leaf1=[0]\n",
    "i=0\n",
    "while i < max(input_and_output_test['leaf1'].dropna().index):\n",
    "    for j in input_and_output_test['leaf1'].dropna().index:\n",
    "        if j-i > 5000000000:\n",
    "            percentage_change_for_leaf1.append(((means_for_file2[1]-input_and_output_test.leaf1.dropna().loc[i:j].mean())/means_for_file2[1])*100)\n",
    "            break\n",
    "    i=j\n",
    "\n",
    "for i in range(2,len(percentage_change_for_leaf1)):\n",
    "    if float(percentage_change_for_leaf1[i]) < thresholds_for_no_failure[1]:\n",
    "        probabilities_df['No Failure'] += 1.1\n",
    "        probabilities_df['leaf1'] -= 0.1\n",
    "        probabilities_df['leaf2'] -= 0.1\n",
    "        probabilities_df['leaf3'] -= 0.1\n",
    "        probabilities_df['leaf4'] -= 0.1\n",
    "        probabilities_df['leaf5'] -= 0.1\n",
    "        probabilities_df['leaf6'] -= 0.1\n",
    "        probabilities_df['leaf7'] -= 0.1\n",
    "        probabilities_df['leaf8'] -= 0.1\n",
    "        probabilities_df['spine1'] -= 0.1\n",
    "        probabilities_df['spine2'] -= 0.1\n",
    "        probabilities_df['spine3'] -= 0.1\n",
    "        probabilities_df['spine4'] -= 0.1\n",
    "        \n",
    "    if float(percentage_change_for_leaf1[i]) > thresholds_for_no_failure[1] and float(percentage_change_for_leaf1[i]) < thresholds_disturbance[1]:\n",
    "        probabilities_df['No Failure'] -= 11\n",
    "        probabilities_df['leaf1'] += 1\n",
    "        probabilities_df['leaf2'] += 1\n",
    "        probabilities_df['leaf3'] += 1\n",
    "        probabilities_df['leaf4'] += 1\n",
    "        probabilities_df['leaf5'] += 1\n",
    "        probabilities_df['leaf6'] += 1\n",
    "        probabilities_df['leaf7'] += 1\n",
    "        probabilities_df['leaf8'] += 1\n",
    "        probabilities_df['spine1'] += 1\n",
    "        probabilities_df['spine2'] += 1\n",
    "        probabilities_df['spine3'] += 1\n",
    "        probabilities_df['spine4'] += 1\n",
    "        \n",
    "        \n",
    "        \n",
    "        \n",
    "bargraph=probabilities_df.iloc[-1].plot(kind='bar', title=\"Failure Probabilites(%)\", figsize=(10,5), legend=True, fontsize=12)"
   ]
  },
  {
   "cell_type": "code",
   "execution_count": null,
   "metadata": {
    "collapsed": true
   },
   "outputs": [],
   "source": []
  }
 ],
 "metadata": {
  "kernelspec": {
   "display_name": "Python 3",
   "language": "python",
   "name": "python3"
  },
  "language_info": {
   "codemirror_mode": {
    "name": "ipython",
    "version": 3
   },
   "file_extension": ".py",
   "mimetype": "text/x-python",
   "name": "python",
   "nbconvert_exporter": "python",
   "pygments_lexer": "ipython3",
   "version": "3.6.2"
  }
 },
 "nbformat": 4,
 "nbformat_minor": 2
}
