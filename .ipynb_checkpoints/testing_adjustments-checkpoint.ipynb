{
 "cells": [
  {
   "cell_type": "code",
   "execution_count": 11,
   "metadata": {
    "collapsed": true
   },
   "outputs": [],
   "source": [
    "import pandas as pd\n",
    "probabilities_df = pd.DataFrame({'No Failure':-55.37,'leaf1':-1,'leaf2':0.01,'leaf3':-18,'leaf4':206.89,'leaf5':-10,'leaf6':-48.56,'leaf7':50,'leaf8':-21.86,'spine1':-10,'spine2':-0.1,'spine3':4,'spine4':2},index=[0])"
   ]
  },
  {
   "cell_type": "code",
   "execution_count": 12,
   "metadata": {},
   "outputs": [
    {
     "data": {
      "text/html": [
       "<div>\n",
       "<style>\n",
       "    .dataframe thead tr:only-child th {\n",
       "        text-align: right;\n",
       "    }\n",
       "\n",
       "    .dataframe thead th {\n",
       "        text-align: left;\n",
       "    }\n",
       "\n",
       "    .dataframe tbody tr th {\n",
       "        vertical-align: top;\n",
       "    }\n",
       "</style>\n",
       "<table border=\"1\" class=\"dataframe\">\n",
       "  <thead>\n",
       "    <tr style=\"text-align: right;\">\n",
       "      <th></th>\n",
       "      <th>No Failure</th>\n",
       "      <th>leaf1</th>\n",
       "      <th>leaf2</th>\n",
       "      <th>leaf3</th>\n",
       "      <th>leaf4</th>\n",
       "      <th>leaf5</th>\n",
       "      <th>leaf6</th>\n",
       "      <th>leaf7</th>\n",
       "      <th>leaf8</th>\n",
       "      <th>spine1</th>\n",
       "      <th>spine2</th>\n",
       "      <th>spine3</th>\n",
       "      <th>spine4</th>\n",
       "    </tr>\n",
       "  </thead>\n",
       "  <tbody>\n",
       "    <tr>\n",
       "      <th>0</th>\n",
       "      <td>-55.37</td>\n",
       "      <td>-1</td>\n",
       "      <td>0.01</td>\n",
       "      <td>-18</td>\n",
       "      <td>206.89</td>\n",
       "      <td>-10</td>\n",
       "      <td>-48.56</td>\n",
       "      <td>50</td>\n",
       "      <td>-21.86</td>\n",
       "      <td>-10</td>\n",
       "      <td>-0.1</td>\n",
       "      <td>4</td>\n",
       "      <td>2</td>\n",
       "    </tr>\n",
       "  </tbody>\n",
       "</table>\n",
       "</div>"
      ],
      "text/plain": [
       "   No Failure  leaf1  leaf2  leaf3   leaf4  leaf5  leaf6  leaf7  leaf8  \\\n",
       "0      -55.37     -1   0.01    -18  206.89    -10 -48.56     50 -21.86   \n",
       "\n",
       "   spine1  spine2  spine3  spine4  \n",
       "0     -10    -0.1       4       2  "
      ]
     },
     "execution_count": 12,
     "metadata": {},
     "output_type": "execute_result"
    }
   ],
   "source": [
    "probabilities_df"
   ]
  },
  {
   "cell_type": "code",
   "execution_count": 13,
   "metadata": {
    "collapsed": true
   },
   "outputs": [],
   "source": [
    "# while probabilities_df.loc[0][0] <1 or probabilities_df.loc[0][1] <1 or probabilities_df.loc[0][2] <1 or probabilities_df.loc[0][3] <1 or probabilities_df.loc[0][4] <1 or probabilities_df.loc[0][5] <1 or probabilities_df.loc[0][6] <1 or probabilities_df.loc[0][7] <1 or probabilities_df.loc[0][8] <1 or probabilities_df.loc[0][9] <1 or probabilities_df.loc[0][10] <1 or probabilities_df.loc[0][11] <1 or probabilities_df.loc[0][12] <1:  \n",
    "#     additional_prob=0\n",
    "#     denom=0\n",
    "#     for i in probabilities_df.columns:\n",
    "#         if float(probabilities_df[i])<=1:\n",
    "#             additional_prob=additional_prob+(1-probabilities_df[i])\n",
    "#             probabilities_df.set_value(0,i,1)\n",
    "#         if float(probabilities_df[i])>1:\n",
    "#             denom=denom+probabilities_df[i]\n",
    "\n",
    "#     for i in probabilities_df.columns:\n",
    "#         if float(probabilities_df[i])>1:\n",
    "#             probabilities_df[i]=(probabilities_df[i]-((probabilities_df[i]/denom)*additional_prob))\n"
   ]
  },
  {
   "cell_type": "code",
   "execution_count": 14,
   "metadata": {},
   "outputs": [],
   "source": [
    "while probabilities_df.loc[0][0] <1 or probabilities_df.loc[0][1] <1 or probabilities_df.loc[0][2] <1 or probabilities_df.loc[0][3] <1 or probabilities_df.loc[0][4] <1 or probabilities_df.loc[0][5] <1 or probabilities_df.loc[0][6] <1 or probabilities_df.loc[0][7] <1 or probabilities_df.loc[0][8] <1 or probabilities_df.loc[0][9] <1 or probabilities_df.loc[0][10] <1 or probabilities_df.loc[0][11] <1 or probabilities_df.loc[0][12] <1:  \n",
    "    additional_prob=0\n",
    "    denom=0\n",
    "    for i in probabilities_df.columns:\n",
    "        if float(probabilities_df[i])<=1:\n",
    "            additional_prob=additional_prob+(1-probabilities_df[i])\n",
    "            probabilities_df.set_value(0,i,1)\n",
    "        if float(probabilities_df[i])>1:\n",
    "            denom=denom+1\n",
    "\n",
    "    for i in probabilities_df.columns:\n",
    "        if float(probabilities_df[i])>1:\n",
    "            probabilities_df[i]=(probabilities_df[i]-(additional_prob/denom))\n",
    "\n",
    "# while probabilities_df.loc[0][0] >88 or probabilities_df.loc[0][1] >88 or probabilities_df.loc[0][2] >88 or probabilities_df.loc[0][3] <1 or probabilities_df.loc[0][4] <1 or probabilities_df.loc[0][5] <1 or probabilities_df.loc[0][6] <1 or probabilities_df.loc[0][7] <1 or probabilities_df.loc[0][8] <1 or probabilities_df.loc[0][9] <1 or probabilities_df.loc[0][10] <1 or probabilities_df.loc[0][11] <1 or probabilities_df.loc[0][12] <1:  \n",
    "#     additional_prob=0\n",
    "#     denom=0\n",
    "#     for i in probabilities_df.columns:\n",
    "#         if float(probabilities_df[i])<=1:\n",
    "#             additional_prob=additional_prob+(1-probabilities_df[i])\n",
    "#             probabilities_df.set_value(0,i,1)\n",
    "#         if float(probabilities_df[i])>1:\n",
    "#             denom=denom+1\n",
    "\n",
    "#     for i in probabilities_df.columns:\n",
    "#         if float(probabilities_df[i])>1:\n",
    "#             probabilities_df[i]=(probabilities_df[i]-(additional_prob/denom))"
   ]
  },
  {
   "cell_type": "code",
   "execution_count": 15,
   "metadata": {},
   "outputs": [
    {
     "data": {
      "text/html": [
       "<div>\n",
       "<style>\n",
       "    .dataframe thead tr:only-child th {\n",
       "        text-align: right;\n",
       "    }\n",
       "\n",
       "    .dataframe thead th {\n",
       "        text-align: left;\n",
       "    }\n",
       "\n",
       "    .dataframe tbody tr th {\n",
       "        vertical-align: top;\n",
       "    }\n",
       "</style>\n",
       "<table border=\"1\" class=\"dataframe\">\n",
       "  <thead>\n",
       "    <tr style=\"text-align: right;\">\n",
       "      <th></th>\n",
       "      <th>No Failure</th>\n",
       "      <th>leaf1</th>\n",
       "      <th>leaf2</th>\n",
       "      <th>leaf3</th>\n",
       "      <th>leaf4</th>\n",
       "      <th>leaf5</th>\n",
       "      <th>leaf6</th>\n",
       "      <th>leaf7</th>\n",
       "      <th>leaf8</th>\n",
       "      <th>spine1</th>\n",
       "      <th>spine2</th>\n",
       "      <th>spine3</th>\n",
       "      <th>spine4</th>\n",
       "    </tr>\n",
       "  </thead>\n",
       "  <tbody>\n",
       "    <tr>\n",
       "      <th>0</th>\n",
       "      <td>1.0</td>\n",
       "      <td>1</td>\n",
       "      <td>1.0</td>\n",
       "      <td>1</td>\n",
       "      <td>86.01</td>\n",
       "      <td>1</td>\n",
       "      <td>1.0</td>\n",
       "      <td>1.0</td>\n",
       "      <td>1.0</td>\n",
       "      <td>1</td>\n",
       "      <td>1.0</td>\n",
       "      <td>1.0</td>\n",
       "      <td>1.0</td>\n",
       "    </tr>\n",
       "  </tbody>\n",
       "</table>\n",
       "</div>"
      ],
      "text/plain": [
       "   No Failure  leaf1  leaf2  leaf3  leaf4  leaf5  leaf6  leaf7  leaf8  spine1  \\\n",
       "0         1.0      1    1.0      1  86.01      1    1.0    1.0    1.0       1   \n",
       "\n",
       "   spine2  spine3  spine4  \n",
       "0     1.0     1.0     1.0  "
      ]
     },
     "execution_count": 15,
     "metadata": {},
     "output_type": "execute_result"
    }
   ],
   "source": [
    "probabilities_df"
   ]
  },
  {
   "cell_type": "code",
   "execution_count": null,
   "metadata": {
    "collapsed": true
   },
   "outputs": [],
   "source": []
  }
 ],
 "metadata": {
  "kernelspec": {
   "display_name": "Python 3",
   "language": "python",
   "name": "python3"
  },
  "language_info": {
   "codemirror_mode": {
    "name": "ipython",
    "version": 3
   },
   "file_extension": ".py",
   "mimetype": "text/x-python",
   "name": "python",
   "nbconvert_exporter": "python",
   "pygments_lexer": "ipython3",
   "version": "3.6.2"
  }
 },
 "nbformat": 4,
 "nbformat_minor": 2
}
