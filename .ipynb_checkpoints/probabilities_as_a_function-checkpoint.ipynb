{
 "cells": [
  {
   "cell_type": "code",
   "execution_count": 5,
   "metadata": {},
   "outputs": [],
   "source": [
    "import pandas as pd\n",
    "import numpy as np\n",
    "import matplotlib.pyplot as plt\n",
    "from testing_initial_analysis import means_for_file2\n",
    "from file_export import testing_file\n",
    "%matplotlib inline\n"
   ]
  },
  {
   "cell_type": "code",
   "execution_count": 6,
   "metadata": {
    "collapsed": true
   },
   "outputs": [],
   "source": [
    "def probability(testing_file):\n",
    "    raw_data_test=testing_file\n",
    "    probabilities_df = pd.DataFrame({'No Failure':0.5*100,'leaf1':1/24*100,'leaf2':1/24*100,'leaf3':1/24*100,'leaf4':1/24*100,'leaf5':1/24*100,'leaf6':1/24*100,'leaf7':1/24*100,'leaf8':1/24*100,'spine1':1/24*100,'spine2':1/24*100,'spine3':1/24*100,'spine4':1/24*100},index=[0])\n",
    "    ##bargraph=probabilities_df.iloc[-1].plot(kind='bar', title=\"Failure Probabilites(%)\", figsize=(10,5), legend=True, fontsize=12)\n",
    "    thresholds_for_no_failure=np.array([0,1.67,1.52,1.66,1.59,1.67,2.34,1.96,1.75,1.77,2.02,5.27,1.99])\n",
    "    thresholds_for_disturbance=np.array([0,18.0,18.0,18.0,18.0,18.0,18.0,18.0,18.0,18.0,18.0,18.0,18.0])\n",
    "    input_and_output_test=pd.DataFrame(columns=['leaf1','leaf2','leaf3','leaf4','leaf5','leaf6','leaf7','leaf8','spine1','spine2','spine3','spine4'],index=raw_data_test.index)\n",
    "    for i in input_and_output_test:\n",
    "        input_and_output_test[i] = raw_data_test[i+' input packet rate'] + raw_data_test[i+' output packet rate']\n",
    "    percentage_change_for_leaf1=[0]\n",
    "    i=0\n",
    "    while i < max(input_and_output_test['leaf1'].dropna().index):\n",
    "        for j in input_and_output_test['leaf1'].dropna().index:\n",
    "            if j-i > 5000000000:\n",
    "                percentage_change_for_leaf1.append(((means_for_file2[1]-input_and_output_test.leaf1.dropna().loc[i:j].mean())/means_for_file2[1])*100)\n",
    "                break\n",
    "        i=j\n",
    "\n",
    "    for i in range(2,len(percentage_change_for_leaf1)):\n",
    "        if float(percentage_change_for_leaf1[i]) < thresholds_for_no_failure[1]:\n",
    "            probabilities_df['No Failure'] += 1.2\n",
    "            probabilities_df['leaf1'] -= 0.1\n",
    "            probabilities_df['leaf2'] -= 0.1\n",
    "            probabilities_df['leaf3'] -= 0.1\n",
    "            probabilities_df['leaf4'] -= 0.1\n",
    "            probabilities_df['leaf5'] -= 0.1\n",
    "            probabilities_df['leaf6'] -= 0.1\n",
    "            probabilities_df['leaf7'] -= 0.1\n",
    "            probabilities_df['leaf8'] -= 0.1\n",
    "            probabilities_df['spine1'] -= 0.1\n",
    "            probabilities_df['spine2'] -= 0.1\n",
    "            probabilities_df['spine3'] -= 0.1\n",
    "            probabilities_df['spine4'] -= 0.1\n",
    "        \n",
    "        if float(percentage_change_for_leaf1[i]) > thresholds_for_no_failure[1] and float(percentage_change_for_leaf1[i]) < thresholds_for_disturbance[1]:\n",
    "            probabilities_df['No Failure'] -= 1.2\n",
    "            probabilities_df['leaf1'] += 0.1\n",
    "            probabilities_df['leaf2'] += 0.1\n",
    "            probabilities_df['leaf3'] += 0.1\n",
    "            probabilities_df['leaf4'] += 0.1\n",
    "            probabilities_df['leaf5'] += 0.1\n",
    "            probabilities_df['leaf6'] += 0.1\n",
    "            probabilities_df['leaf7'] += 0.1\n",
    "            probabilities_df['leaf8'] += 0.1\n",
    "            probabilities_df['spine1'] += 0.1\n",
    "            probabilities_df['spine2'] += 0.1\n",
    "            probabilities_df['spine3'] += 0.1\n",
    "            probabilities_df['spine4'] += 0.1\n",
    "        \n",
    "        if float(percentage_change_for_leaf1[i]) > thresholds_for_disturbance[1]:\n",
    "            probabilities_df['No Failure'] -= 9\n",
    "            probabilities_df['leaf1'] += 20\n",
    "            probabilities_df['leaf2'] -= 1\n",
    "            probabilities_df['leaf3'] -= 1\n",
    "            probabilities_df['leaf4'] -= 1\n",
    "            probabilities_df['leaf5'] -= 1\n",
    "            probabilities_df['leaf6'] -= 1\n",
    "            probabilities_df['leaf7'] -= 1\n",
    "            probabilities_df['leaf8'] -= 1\n",
    "            probabilities_df['spine1'] -= 1\n",
    "            probabilities_df['spine2'] -= 1\n",
    "            probabilities_df['spine3'] -= 1\n",
    "            probabilities_df['spine4'] -= 1\n",
    "        \n",
    "\n",
    "\n",
    "    for i in probabilities_df.columns:\n",
    "        if float(probabilities_df[i]) > 80:\n",
    "            for j in (probabilities_df.columns):\n",
    "                probabilities_df.set_value(0,j,1)\n",
    "        \n",
    "            probabilities_df.set_value(0,i,88) \n",
    "        if float(probabilities_df[i]) < 1:\n",
    "            probabilities_df.set_value(0,i,1)\n",
    "        \n",
    "    bargraph=probabilities_df.iloc[-1].plot(kind='bar', title=\"Failure Probabilites(%)\", figsize=(10,5), legend=True, fontsize=12)"
   ]
  },
  {
   "cell_type": "code",
   "execution_count": null,
   "metadata": {
    "collapsed": true
   },
   "outputs": [],
   "source": []
  }
 ],
 "metadata": {
  "kernelspec": {
   "display_name": "Python 3",
   "language": "python",
   "name": "python3"
  },
  "language_info": {
   "codemirror_mode": {
    "name": "ipython",
    "version": 3
   },
   "file_extension": ".py",
   "mimetype": "text/x-python",
   "name": "python",
   "nbconvert_exporter": "python",
   "pygments_lexer": "ipython3",
   "version": "3.6.2"
  }
 },
 "nbformat": 4,
 "nbformat_minor": 2
}
