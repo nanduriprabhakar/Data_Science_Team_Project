{
 "cells": [
  {
   "cell_type": "code",
   "execution_count": 59,
   "metadata": {},
   "outputs": [],
   "source": [
    "import pandas as pd\n",
    "import numpy as np\n",
    "import matplotlib.pyplot as plt\n",
    "from testing_initial_analysis import means_for_file2\n",
    "%matplotlib inline"
   ]
  },
  {
   "cell_type": "code",
   "execution_count": 60,
   "metadata": {
    "collapsed": true
   },
   "outputs": [],
   "source": [
    "raw_data_test=pd.read_csv('file_1_copy.csv',index_col='time')"
   ]
  },
  {
   "cell_type": "code",
   "execution_count": 61,
   "metadata": {
    "collapsed": true
   },
   "outputs": [],
   "source": [
    "probabilities_df = pd.DataFrame({'No Failure':0.5*100,'leaf1':1/24*100,'leaf2':1/24*100,'leaf3':1/24*100,'leaf4':1/24*100,'leaf5':1/24*100,'leaf6':1/24*100,'leaf7':1/24*100,'leaf8':1/24*100,'spine1':1/24*100,'spine2':1/24*100,'spine3':1/24*100,'spine4':1/24*100},index=[0])"
   ]
  },
  {
   "cell_type": "code",
   "execution_count": 62,
   "metadata": {},
   "outputs": [
    {
     "data": {
      "image/png": "[encoded data removed]",
      "text/plain": [
       "<matplotlib.figure.Figure at 0xd3f1e10>"
      ]
     },
     "metadata": {},
     "output_type": "display_data"
    }
   ],
   "source": [
    "bargraph=probabilities_df.iloc[-1].plot(kind='bar', title=\"Failure Probabilites(%)\", figsize=(10,5), legend=True, fontsize=12)"
   ]
  },
  {
   "cell_type": "code",
   "execution_count": 63,
   "metadata": {
    "collapsed": true
   },
   "outputs": [],
   "source": [
    "thresholds_for_no_failure=np.array([0,1.67,1.52,1.66,1.59,1.67,2.34,1.96,1.75,1.77,2.02,5.27,1.99])"
   ]
  },
  {
   "cell_type": "code",
   "execution_count": 64,
   "metadata": {
    "collapsed": true
   },
   "outputs": [],
   "source": [
    "thresholds_for_disturbance=np.array([0,18.0,18.0,18.0,18.0,18.0,18.0,18.0,18.0,18.0,18.0,18.0,18.0])"
   ]
  },
  {
   "cell_type": "code",
   "execution_count": 65,
   "metadata": {
    "collapsed": true
   },
   "outputs": [],
   "source": [
    "input_and_output_test=pd.DataFrame(columns=['leaf1','leaf2','leaf3','leaf4','leaf5','leaf6','leaf7','leaf8','spine1','spine2','spine3','spine4'],index=raw_data_test.index)"
   ]
  },
  {
   "cell_type": "code",
   "execution_count": 66,
   "metadata": {
    "collapsed": true
   },
   "outputs": [],
   "source": [
    "for i in input_and_output_test:\n",
    "    input_and_output_test[i] = raw_data_test[i+' input packet rate'] + raw_data_test[i+' output packet rate']"
   ]
  },
  {
   "cell_type": "code",
   "execution_count": 67,
   "metadata": {},
   "outputs": [
    {
     "name": "stdout",
     "output_type": "stream",
     "text": [
      "18.203516553804445\n",
      "18.624035931084634\n",
      "18.00985219856125\n"
     ]
    },
    {
     "data": {
      "image/png": "[encoded data removed]",
      "text/plain": [
       "<matplotlib.figure.Figure at 0x6e514e0>"
      ]
     },
     "metadata": {},
     "output_type": "display_data"
    }
   ],
   "source": [
    "percentage_change_for_leaf1=[0]\n",
    "i=0\n",
    "while i < max(input_and_output_test['leaf1'].dropna().index):\n",
    "    for j in input_and_output_test['leaf1'].dropna().index:\n",
    "        if j-i > 5000000000:\n",
    "            percentage_change_for_leaf1.append(((means_for_file2[1]-input_and_output_test.leaf1.dropna().loc[i:j].mean())/means_for_file2[1])*100)\n",
    "            break\n",
    "    i=j\n",
    "\n",
    "for i in range(2,len(percentage_change_for_leaf1)):\n",
    "    if float(percentage_change_for_leaf1[i]) <= thresholds_for_no_failure[1]:\n",
    "        probabilities_df['No Failure'] += 1.2\n",
    "        probabilities_df['leaf1'] -= 0.1\n",
    "        probabilities_df['leaf2'] -= 0.1\n",
    "        probabilities_df['leaf3'] -= 0.1\n",
    "        probabilities_df['leaf4'] -= 0.1\n",
    "        probabilities_df['leaf5'] -= 0.1\n",
    "        probabilities_df['leaf6'] -= 0.1\n",
    "        probabilities_df['leaf7'] -= 0.1\n",
    "        probabilities_df['leaf8'] -= 0.1\n",
    "        probabilities_df['spine1'] -= 0.1\n",
    "        probabilities_df['spine2'] -= 0.1\n",
    "        probabilities_df['spine3'] -= 0.1\n",
    "        probabilities_df['spine4'] -= 0.1\n",
    "        \n",
    "    if float(percentage_change_for_leaf1[i]) > thresholds_for_no_failure[1] and float(percentage_change_for_leaf1[i]) <= thresholds_for_disturbance[1]:\n",
    "        probabilities_df['No Failure'] -= 1.2\n",
    "        probabilities_df['leaf1'] += 0.1\n",
    "        probabilities_df['leaf2'] += 0.1\n",
    "        probabilities_df['leaf3'] += 0.1\n",
    "        probabilities_df['leaf4'] += 0.1\n",
    "        probabilities_df['leaf5'] += 0.1\n",
    "        probabilities_df['leaf6'] += 0.1\n",
    "        probabilities_df['leaf7'] += 0.1\n",
    "        probabilities_df['leaf8'] += 0.1\n",
    "        probabilities_df['spine1'] += 0.1\n",
    "        probabilities_df['spine2'] += 0.1\n",
    "        probabilities_df['spine3'] += 0.1\n",
    "        probabilities_df['spine4'] += 0.1\n",
    "        \n",
    "    if float(percentage_change_for_leaf1[i]) > thresholds_for_disturbance[1]:\n",
    "        drop=(((float(percentage_change_for_leaf1[i])-25)*20/65)+20)\n",
    "        probabilities_df['No Failure'] -= ((9*drop)/20)\n",
    "        probabilities_df['leaf1'] += drop\n",
    "        probabilities_df['leaf2'] -= (drop/20)\n",
    "        probabilities_df['leaf3'] -= (drop/20)\n",
    "        probabilities_df['leaf4'] -= (drop/20)\n",
    "        probabilities_df['leaf5'] -= (drop/20)\n",
    "        probabilities_df['leaf6'] -= (drop/20)\n",
    "        probabilities_df['leaf7'] -= (drop/20)\n",
    "        probabilities_df['leaf8'] -= (drop/20)\n",
    "        probabilities_df['spine1'] -= (drop/20)\n",
    "        probabilities_df['spine2'] -= (drop/20)\n",
    "        probabilities_df['spine3'] -= (drop/20)\n",
    "        probabilities_df['spine4'] -= (drop/20)\n",
    "        print ((drop))\n",
    "\n",
    "\n",
    "while probabilities_df.loc[0][0] <1 or probabilities_df.loc[0][1] <1 or probabilities_df.loc[0][2] <1 or probabilities_df.loc[0][3] <1 or probabilities_df.loc[0][4] <1 or probabilities_df.loc[0][5] <1 or probabilities_df.loc[0][6] <1 or probabilities_df.loc[0][7] <1 or probabilities_df.loc[0][8] <1 or probabilities_df.loc[0][9] <1 or probabilities_df.loc[0][10] <1 or probabilities_df.loc[0][11] <1 or probabilities_df.loc[0][12] <1:  \n",
    "    additional_prob=0\n",
    "    denom=0\n",
    "    for i in probabilities_df.columns:\n",
    "        if float(probabilities_df[i])<=1:\n",
    "            additional_prob=additional_prob+(1-probabilities_df[i])\n",
    "            probabilities_df.set_value(0,i,1)\n",
    "        if float(probabilities_df[i])>1:\n",
    "            denom=denom+1\n",
    "\n",
    "    for i in probabilities_df.columns:\n",
    "        if float(probabilities_df[i])>1:\n",
    "            probabilities_df[i]=(probabilities_df[i]-(additional_prob/denom))\n",
    "        \n",
    "bargraph=probabilities_df.iloc[-1].plot(kind='bar', title=\"Failure Probabilites(%)\", figsize=(10,5), legend=True, fontsize=12)"
   ]
  },
  {
   "cell_type": "code",
   "execution_count": 68,
   "metadata": {},
   "outputs": [
    {
     "data": {
      "text/html": [
       "<div>\n",
       "<style>\n",
       "    .dataframe thead tr:only-child th {\n",
       "        text-align: right;\n",
       "    }\n",
       "\n",
       "    .dataframe thead th {\n",
       "        text-align: left;\n",
       "    }\n",
       "\n",
       "    .dataframe tbody tr th {\n",
       "        vertical-align: top;\n",
       "    }\n",
       "</style>\n",
       "<table border=\"1\" class=\"dataframe\">\n",
       "  <thead>\n",
       "    <tr style=\"text-align: right;\">\n",
       "      <th></th>\n",
       "      <th>No Failure</th>\n",
       "      <th>leaf1</th>\n",
       "      <th>leaf2</th>\n",
       "      <th>leaf3</th>\n",
       "      <th>leaf4</th>\n",
       "      <th>leaf5</th>\n",
       "      <th>leaf6</th>\n",
       "      <th>leaf7</th>\n",
       "      <th>leaf8</th>\n",
       "      <th>spine1</th>\n",
       "      <th>spine2</th>\n",
       "      <th>spine3</th>\n",
       "      <th>spine4</th>\n",
       "    </tr>\n",
       "  </thead>\n",
       "  <tbody>\n",
       "    <tr>\n",
       "      <th>0</th>\n",
       "      <td>4.923168</td>\n",
       "      <td>60.704071</td>\n",
       "      <td>3.124796</td>\n",
       "      <td>3.124796</td>\n",
       "      <td>3.124796</td>\n",
       "      <td>3.124796</td>\n",
       "      <td>3.124796</td>\n",
       "      <td>3.124796</td>\n",
       "      <td>3.124796</td>\n",
       "      <td>3.124796</td>\n",
       "      <td>3.124796</td>\n",
       "      <td>3.124796</td>\n",
       "      <td>3.124796</td>\n",
       "    </tr>\n",
       "  </tbody>\n",
       "</table>\n",
       "</div>"
      ],
      "text/plain": [
       "   No Failure      leaf1     leaf2     leaf3     leaf4     leaf5     leaf6  \\\n",
       "0    4.923168  60.704071  3.124796  3.124796  3.124796  3.124796  3.124796   \n",
       "\n",
       "      leaf7     leaf8    spine1    spine2    spine3    spine4  \n",
       "0  3.124796  3.124796  3.124796  3.124796  3.124796  3.124796  "
      ]
     },
     "execution_count": 68,
     "metadata": {},
     "output_type": "execute_result"
    }
   ],
   "source": [
    "probabilities_df"
   ]
  },
  {
   "cell_type": "code",
   "execution_count": 11,
   "metadata": {},
   "outputs": [
    {
     "data": {
      "image/png": "[encoded data removed]",
      "text/plain": [
       "<matplotlib.figure.Figure at 0xebb8128>"
      ]
     },
     "metadata": {},
     "output_type": "display_data"
    }
   ],
   "source": [
    "percentage_change_for_leaf2=[0]\n",
    "i=0\n",
    "while i < max(input_and_output_test['leaf2'].dropna().index):\n",
    "    for j in input_and_output_test['leaf2'].dropna().index:\n",
    "        if j-i > 5000000000:\n",
    "            percentage_change_for_leaf2.append(((means_for_file2[2]-input_and_output_test.leaf2.dropna().loc[i:j].mean())/means_for_file2[2])*100)\n",
    "            break\n",
    "    i=j\n",
    "\n",
    "for i in range(2,len(percentage_change_for_leaf2)):\n",
    "    if float(percentage_change_for_leaf2[i]) < thresholds_for_no_failure[2]:\n",
    "        probabilities_df['No Failure'] += 1.2\n",
    "        probabilities_df['leaf1'] -= 0.1\n",
    "        probabilities_df['leaf2'] -= 0.1\n",
    "        probabilities_df['leaf3'] -= 0.1\n",
    "        probabilities_df['leaf4'] -= 0.1\n",
    "        probabilities_df['leaf5'] -= 0.1\n",
    "        probabilities_df['leaf6'] -= 0.1\n",
    "        probabilities_df['leaf7'] -= 0.1\n",
    "        probabilities_df['leaf8'] -= 0.1\n",
    "        probabilities_df['spine1'] -= 0.1\n",
    "        probabilities_df['spine2'] -= 0.1\n",
    "        probabilities_df['spine3'] -= 0.1\n",
    "        probabilities_df['spine4'] -= 0.1\n",
    "        \n",
    "    if float(percentage_change_for_leaf2[i]) > thresholds_for_no_failure[2] and float(percentage_change_for_leaf2[i]) < thresholds_for_disturbance[2]:\n",
    "        probabilities_df['No Failure'] -= 1.2\n",
    "        probabilities_df['leaf1'] += 0.1\n",
    "        probabilities_df['leaf2'] += 0.1\n",
    "        probabilities_df['leaf3'] += 0.1\n",
    "        probabilities_df['leaf4'] += 0.1\n",
    "        probabilities_df['leaf5'] += 0.1\n",
    "        probabilities_df['leaf6'] += 0.1\n",
    "        probabilities_df['leaf7'] += 0.1\n",
    "        probabilities_df['leaf8'] += 0.1\n",
    "        probabilities_df['spine1'] += 0.1\n",
    "        probabilities_df['spine2'] += 0.1\n",
    "        probabilities_df['spine3'] += 0.1\n",
    "        probabilities_df['spine4'] += 0.1\n",
    "        \n",
    "    if float(percentage_change_for_leaf2[i]) > thresholds_for_disturbance[2]:\n",
    "        probabilities_df['No Failure'] -= 9\n",
    "        probabilities_df['leaf1'] -= 1\n",
    "        probabilities_df['leaf2'] += 20\n",
    "        probabilities_df['leaf3'] -= 1\n",
    "        probabilities_df['leaf4'] -= 1\n",
    "        probabilities_df['leaf5'] -= 1\n",
    "        probabilities_df['leaf6'] -= 1\n",
    "        probabilities_df['leaf7'] -= 1\n",
    "        probabilities_df['leaf8'] -= 1\n",
    "        probabilities_df['spine1'] -= 1\n",
    "        probabilities_df['spine2'] -= 1\n",
    "        probabilities_df['spine3'] -= 1\n",
    "        probabilities_df['spine4'] -= 1\n",
    "        \n",
    "\n",
    "\n",
    "for i in probabilities_df.columns:\n",
    "    if float(probabilities_df[i]) > 80:\n",
    "        for j in (probabilities_df.columns):\n",
    "            probabilities_df.set_value(0,j,1)\n",
    "        \n",
    "        probabilities_df.set_value(0,i,88) \n",
    "    if float(probabilities_df[i]) < 1:\n",
    "        probabilities_df.set_value(0,i,1)\n",
    "        \n",
    "bargraph=probabilities_df.iloc[-1].plot(kind='bar', title=\"Failure Probabilites(%)\", figsize=(10,5), legend=True, fontsize=12)"
   ]
  },
  {
   "cell_type": "code",
   "execution_count": 12,
   "metadata": {},
   "outputs": [
    {
     "data": {
      "text/html": [
       "<div>\n",
       "<style>\n",
       "    .dataframe thead tr:only-child th {\n",
       "        text-align: right;\n",
       "    }\n",
       "\n",
       "    .dataframe thead th {\n",
       "        text-align: left;\n",
       "    }\n",
       "\n",
       "    .dataframe tbody tr th {\n",
       "        vertical-align: top;\n",
       "    }\n",
       "</style>\n",
       "<table border=\"1\" class=\"dataframe\">\n",
       "  <thead>\n",
       "    <tr style=\"text-align: right;\">\n",
       "      <th></th>\n",
       "      <th>No Failure</th>\n",
       "      <th>leaf1</th>\n",
       "      <th>leaf2</th>\n",
       "      <th>leaf3</th>\n",
       "      <th>leaf4</th>\n",
       "      <th>leaf5</th>\n",
       "      <th>leaf6</th>\n",
       "      <th>leaf7</th>\n",
       "      <th>leaf8</th>\n",
       "      <th>spine1</th>\n",
       "      <th>spine2</th>\n",
       "      <th>spine3</th>\n",
       "      <th>spine4</th>\n",
       "    </tr>\n",
       "  </thead>\n",
       "  <tbody>\n",
       "    <tr>\n",
       "      <th>0</th>\n",
       "      <td>1.0</td>\n",
       "      <td>64.766667</td>\n",
       "      <td>43.766667</td>\n",
       "      <td>1.766667</td>\n",
       "      <td>1.766667</td>\n",
       "      <td>1.766667</td>\n",
       "      <td>1.766667</td>\n",
       "      <td>1.766667</td>\n",
       "      <td>1.766667</td>\n",
       "      <td>1.766667</td>\n",
       "      <td>1.766667</td>\n",
       "      <td>1.766667</td>\n",
       "      <td>1.766667</td>\n",
       "    </tr>\n",
       "  </tbody>\n",
       "</table>\n",
       "</div>"
      ],
      "text/plain": [
       "   No Failure      leaf1      leaf2     leaf3     leaf4     leaf5     leaf6  \\\n",
       "0         1.0  64.766667  43.766667  1.766667  1.766667  1.766667  1.766667   \n",
       "\n",
       "      leaf7     leaf8    spine1    spine2    spine3    spine4  \n",
       "0  1.766667  1.766667  1.766667  1.766667  1.766667  1.766667  "
      ]
     },
     "execution_count": 12,
     "metadata": {},
     "output_type": "execute_result"
    }
   ],
   "source": [
    "probabilities_df"
   ]
  },
  {
   "cell_type": "code",
   "execution_count": null,
   "metadata": {
    "collapsed": true
   },
   "outputs": [],
   "source": [
    "percentage_change_for_leaf3=[0]\n",
    "i=0\n",
    "while i < max(input_and_output_test['leaf3'].dropna().index):\n",
    "    for j in input_and_output_test['leaf3'].dropna().index:\n",
    "        if j-i > 5000000000:\n",
    "            percentage_change_for_leaf3.append(((means_for_file2[3]-input_and_output_test.leaf3.dropna().loc[i:j].mean())/means_for_file2[3])*100)\n",
    "            break\n",
    "    i=j\n",
    "\n",
    "for i in range(2,len(percentage_change_for_leaf3)):\n",
    "    if float(percentage_change_for_leaf3[i]) < thresholds_for_no_failure[3]:\n",
    "        probabilities_df['No Failure'] += 1.2\n",
    "        probabilities_df['leaf1'] -= 0.1\n",
    "        probabilities_df['leaf2'] -= 0.1\n",
    "        probabilities_df['leaf3'] -= 0.1\n",
    "        probabilities_df['leaf4'] -= 0.1\n",
    "        probabilities_df['leaf5'] -= 0.1\n",
    "        probabilities_df['leaf6'] -= 0.1\n",
    "        probabilities_df['leaf7'] -= 0.1\n",
    "        probabilities_df['leaf8'] -= 0.1\n",
    "        probabilities_df['spine1'] -= 0.1\n",
    "        probabilities_df['spine2'] -= 0.1\n",
    "        probabilities_df['spine3'] -= 0.1\n",
    "        probabilities_df['spine4'] -= 0.1\n",
    "        \n",
    "    if float(percentage_change_for_leaf3[i]) > thresholds_for_no_failure[3] and float(percentage_change_for_leaf3[i]) < thresholds_for_disturbance[3]:\n",
    "        probabilities_df['No Failure'] -= 1.2\n",
    "        probabilities_df['leaf1'] += 0.1\n",
    "        probabilities_df['leaf2'] += 0.1\n",
    "        probabilities_df['leaf3'] += 0.1\n",
    "        probabilities_df['leaf4'] += 0.1\n",
    "        probabilities_df['leaf5'] += 0.1\n",
    "        probabilities_df['leaf6'] += 0.1\n",
    "        probabilities_df['leaf7'] += 0.1\n",
    "        probabilities_df['leaf8'] += 0.1\n",
    "        probabilities_df['spine1'] += 0.1\n",
    "        probabilities_df['spine2'] += 0.1\n",
    "        probabilities_df['spine3'] += 0.1\n",
    "        probabilities_df['spine4'] += 0.1\n",
    "        \n",
    "    if float(percentage_change_for_leaf3[i]) > thresholds_for_disturbance[3]:\n",
    "        probabilities_df['No Failure'] -= 9\n",
    "        probabilities_df['leaf1'] -= 1\n",
    "        probabilities_df['leaf2'] -= 1\n",
    "        probabilities_df['leaf3'] += 20\n",
    "        probabilities_df['leaf4'] -= 1\n",
    "        probabilities_df['leaf5'] -= 1\n",
    "        probabilities_df['leaf6'] -= 1\n",
    "        probabilities_df['leaf7'] -= 1\n",
    "        probabilities_df['leaf8'] -= 1\n",
    "        probabilities_df['spine1'] -= 1\n",
    "        probabilities_df['spine2'] -= 1\n",
    "        probabilities_df['spine3'] -= 1\n",
    "        probabilities_df['spine4'] -= 1\n",
    "        \n",
    "\n",
    "\n",
    "for i in probabilities_df.columns:\n",
    "    if float(probabilities_df[i]) > 80:\n",
    "        for j in (probabilities_df.columns):\n",
    "            probabilities_df.set_value(0,j,1)\n",
    "        \n",
    "        probabilities_df.set_value(0,i,88) \n",
    "    if float(probabilities_df[i]) < 1:\n",
    "        probabilities_df.set_value(0,i,1)\n",
    "        \n",
    "bargraph=probabilities_df.iloc[-1].plot(kind='bar', title=\"Failure Probabilites(%)\", figsize=(10,5), legend=True, fontsize=12)"
   ]
  },
  {
   "cell_type": "code",
   "execution_count": null,
   "metadata": {
    "collapsed": true
   },
   "outputs": [],
   "source": [
    "probabilities_df"
   ]
  },
  {
   "cell_type": "code",
   "execution_count": null,
   "metadata": {
    "collapsed": true
   },
   "outputs": [],
   "source": [
    "percentage_change_for_leaf4=[0]\n",
    "i=0\n",
    "while i < max(input_and_output_test['leaf4'].dropna().index):\n",
    "    for j in input_and_output_test['leaf4'].dropna().index:\n",
    "        if j-i > 5000000000:\n",
    "            percentage_change_for_leaf4.append(((means_for_file2[4]-input_and_output_test.leaf4.dropna().loc[i:j].mean())/means_for_file2[4])*100)\n",
    "            break\n",
    "    i=j\n",
    "\n",
    "for i in range(2,len(percentage_change_for_leaf4)):\n",
    "    if float(percentage_change_for_leaf4[i]) < thresholds_for_no_failure[4]:\n",
    "        probabilities_df['No Failure'] += 1.2\n",
    "        probabilities_df['leaf1'] -= 0.1\n",
    "        probabilities_df['leaf2'] -= 0.1\n",
    "        probabilities_df['leaf3'] -= 0.1\n",
    "        probabilities_df['leaf4'] -= 0.1\n",
    "        probabilities_df['leaf5'] -= 0.1\n",
    "        probabilities_df['leaf6'] -= 0.1\n",
    "        probabilities_df['leaf7'] -= 0.1\n",
    "        probabilities_df['leaf8'] -= 0.1\n",
    "        probabilities_df['spine1'] -= 0.1\n",
    "        probabilities_df['spine2'] -= 0.1\n",
    "        probabilities_df['spine3'] -= 0.1\n",
    "        probabilities_df['spine4'] -= 0.1\n",
    "        \n",
    "    if float(percentage_change_for_leaf4[i]) > thresholds_for_no_failure[4] and float(percentage_change_for_leaf4[i]) < thresholds_for_disturbance[4]:\n",
    "        probabilities_df['No Failure'] -= 1.2\n",
    "        probabilities_df['leaf1'] += 0.1\n",
    "        probabilities_df['leaf2'] += 0.1\n",
    "        probabilities_df['leaf3'] += 0.1\n",
    "        probabilities_df['leaf4'] += 0.1\n",
    "        probabilities_df['leaf5'] += 0.1\n",
    "        probabilities_df['leaf6'] += 0.1\n",
    "        probabilities_df['leaf7'] += 0.1\n",
    "        probabilities_df['leaf8'] += 0.1\n",
    "        probabilities_df['spine1'] += 0.1\n",
    "        probabilities_df['spine2'] += 0.1\n",
    "        probabilities_df['spine3'] += 0.1\n",
    "        probabilities_df['spine4'] += 0.1\n",
    "        \n",
    "    if float(percentage_change_for_leaf4[i]) > thresholds_for_disturbance[4]:\n",
    "        probabilities_df['No Failure'] -= 9\n",
    "        probabilities_df['leaf1'] -= 1\n",
    "        probabilities_df['leaf2'] -= 1\n",
    "        probabilities_df['leaf3'] -= 1\n",
    "        probabilities_df['leaf4'] += 20\n",
    "        probabilities_df['leaf5'] -= 1\n",
    "        probabilities_df['leaf6'] -= 1\n",
    "        probabilities_df['leaf7'] -= 1\n",
    "        probabilities_df['leaf8'] -= 1\n",
    "        probabilities_df['spine1'] -= 1\n",
    "        probabilities_df['spine2'] -= 1\n",
    "        probabilities_df['spine3'] -= 1\n",
    "        probabilities_df['spine4'] -= 1\n",
    "        \n",
    "\n",
    "\n",
    "for i in probabilities_df.columns:\n",
    "    if float(probabilities_df[i]) > 80:\n",
    "        for j in (probabilities_df.columns):\n",
    "            probabilities_df.set_value(0,j,1)\n",
    "        \n",
    "        probabilities_df.set_value(0,i,88) \n",
    "    if float(probabilities_df[i]) < 1:\n",
    "        probabilities_df.set_value(0,i,1)\n",
    "        \n",
    "bargraph=probabilities_df.iloc[-1].plot(kind='bar', title=\"Failure Probabilites(%)\", figsize=(10,5), legend=True, fontsize=12)"
   ]
  },
  {
   "cell_type": "code",
   "execution_count": null,
   "metadata": {
    "collapsed": true
   },
   "outputs": [],
   "source": [
    "probabilities_df"
   ]
  },
  {
   "cell_type": "code",
   "execution_count": null,
   "metadata": {
    "collapsed": true
   },
   "outputs": [],
   "source": [
    "percentage_change_for_leaf5=[0]\n",
    "i=0\n",
    "while i < max(input_and_output_test['leaf5'].dropna().index):\n",
    "    for j in input_and_output_test['leaf5'].dropna().index:\n",
    "        if j-i > 5000000000:\n",
    "            percentage_change_for_leaf5.append(((means_for_file2[5]-input_and_output_test.leaf5.dropna().loc[i:j].mean())/means_for_file2[5])*100)\n",
    "            break\n",
    "    i=j\n",
    "\n",
    "for i in range(2,len(percentage_change_for_leaf5)):\n",
    "    if float(percentage_change_for_leaf5[i]) < thresholds_for_no_failure[5]:\n",
    "        probabilities_df['No Failure'] += 1.2\n",
    "        probabilities_df['leaf1'] -= 0.1\n",
    "        probabilities_df['leaf2'] -= 0.1\n",
    "        probabilities_df['leaf3'] -= 0.1\n",
    "        probabilities_df['leaf4'] -= 0.1\n",
    "        probabilities_df['leaf5'] -= 0.1\n",
    "        probabilities_df['leaf6'] -= 0.1\n",
    "        probabilities_df['leaf7'] -= 0.1\n",
    "        probabilities_df['leaf8'] -= 0.1\n",
    "        probabilities_df['spine1'] -= 0.1\n",
    "        probabilities_df['spine2'] -= 0.1\n",
    "        probabilities_df['spine3'] -= 0.1\n",
    "        probabilities_df['spine4'] -= 0.1\n",
    "        \n",
    "    if float(percentage_change_for_leaf5[i]) > thresholds_for_no_failure[5] and float(percentage_change_for_leaf5[i]) < thresholds_for_disturbance[5]:\n",
    "        probabilities_df['No Failure'] -= 1.2\n",
    "        probabilities_df['leaf1'] += 0.1\n",
    "        probabilities_df['leaf2'] += 0.1\n",
    "        probabilities_df['leaf3'] += 0.1\n",
    "        probabilities_df['leaf4'] += 0.1\n",
    "        probabilities_df['leaf5'] += 0.1\n",
    "        probabilities_df['leaf6'] += 0.1\n",
    "        probabilities_df['leaf7'] += 0.1\n",
    "        probabilities_df['leaf8'] += 0.1\n",
    "        probabilities_df['spine1'] += 0.1\n",
    "        probabilities_df['spine2'] += 0.1\n",
    "        probabilities_df['spine3'] += 0.1\n",
    "        probabilities_df['spine4'] += 0.1\n",
    "        \n",
    "    if float(percentage_change_for_leaf5[i]) > thresholds_for_disturbance[5]:\n",
    "        probabilities_df['No Failure'] -= 9\n",
    "        probabilities_df['leaf1'] -= 1\n",
    "        probabilities_df['leaf2'] -= 1\n",
    "        probabilities_df['leaf3'] -= 1\n",
    "        probabilities_df['leaf4'] -= 1\n",
    "        probabilities_df['leaf5'] += 20\n",
    "        probabilities_df['leaf6'] -= 1\n",
    "        probabilities_df['leaf7'] -= 1\n",
    "        probabilities_df['leaf8'] -= 1\n",
    "        probabilities_df['spine1'] -= 1\n",
    "        probabilities_df['spine2'] -= 1\n",
    "        probabilities_df['spine3'] -= 1\n",
    "        probabilities_df['spine4'] -= 1\n",
    "        \n",
    "\n",
    "\n",
    "for i in probabilities_df.columns:\n",
    "    if float(probabilities_df[i]) > 80:\n",
    "        for j in (probabilities_df.columns):\n",
    "            probabilities_df.set_value(0,j,1)\n",
    "        \n",
    "        probabilities_df.set_value(0,i,88) \n",
    "    if float(probabilities_df[i]) < 1:\n",
    "        probabilities_df.set_value(0,i,1)\n",
    "        \n",
    "bargraph=probabilities_df.iloc[-1].plot(kind='bar', title=\"Failure Probabilites(%)\", figsize=(10,5), legend=True, fontsize=12)"
   ]
  },
  {
   "cell_type": "code",
   "execution_count": null,
   "metadata": {
    "collapsed": true
   },
   "outputs": [],
   "source": [
    "percentage_change_for_leaf6=[0]\n",
    "i=0\n",
    "while i < max(input_and_output_test['leaf6'].dropna().index):\n",
    "    for j in input_and_output_test['leaf6'].dropna().index:\n",
    "        if j-i > 5000000000:\n",
    "            percentage_change_for_leaf6.append(((means_for_file2[6]-input_and_output_test.leaf6.dropna().loc[i:j].mean())/means_for_file2[6])*100)\n",
    "            break\n",
    "    i=j\n",
    "\n",
    "for i in range(2,len(percentage_change_for_leaf6)):\n",
    "    if float(percentage_change_for_leaf6[i]) < thresholds_for_no_failure[6]:\n",
    "        probabilities_df['No Failure'] += 1.2\n",
    "        probabilities_df['leaf1'] -= 0.1\n",
    "        probabilities_df['leaf2'] -= 0.1\n",
    "        probabilities_df['leaf3'] -= 0.1\n",
    "        probabilities_df['leaf4'] -= 0.1\n",
    "        probabilities_df['leaf5'] -= 0.1\n",
    "        probabilities_df['leaf6'] -= 0.1\n",
    "        probabilities_df['leaf7'] -= 0.1\n",
    "        probabilities_df['leaf8'] -= 0.1\n",
    "        probabilities_df['spine1'] -= 0.1\n",
    "        probabilities_df['spine2'] -= 0.1\n",
    "        probabilities_df['spine3'] -= 0.1\n",
    "        probabilities_df['spine4'] -= 0.1\n",
    "        \n",
    "    if float(percentage_change_for_leaf6[i]) > thresholds_for_no_failure[6] and float(percentage_change_for_leaf6[i]) < thresholds_for_disturbance[6]:\n",
    "        probabilities_df['No Failure'] -= 1.2\n",
    "        probabilities_df['leaf1'] += 0.1\n",
    "        probabilities_df['leaf2'] += 0.1\n",
    "        probabilities_df['leaf3'] += 0.1\n",
    "        probabilities_df['leaf4'] += 0.1\n",
    "        probabilities_df['leaf5'] += 0.1\n",
    "        probabilities_df['leaf6'] += 0.1\n",
    "        probabilities_df['leaf7'] += 0.1\n",
    "        probabilities_df['leaf8'] += 0.1\n",
    "        probabilities_df['spine1'] += 0.1\n",
    "        probabilities_df['spine2'] += 0.1\n",
    "        probabilities_df['spine3'] += 0.1\n",
    "        probabilities_df['spine4'] += 0.1\n",
    "        \n",
    "    if float(percentage_change_for_leaf6[i]) > thresholds_for_disturbance[6]:\n",
    "        probabilities_df['No Failure'] -= 9\n",
    "        probabilities_df['leaf1'] -= 1\n",
    "        probabilities_df['leaf2'] -= 1\n",
    "        probabilities_df['leaf3'] -= 1\n",
    "        probabilities_df['leaf4'] -= 1\n",
    "        probabilities_df['leaf5'] -= 1\n",
    "        probabilities_df['leaf6'] += 20\n",
    "        probabilities_df['leaf7'] -= 1\n",
    "        probabilities_df['leaf8'] -= 1\n",
    "        probabilities_df['spine1'] -= 1\n",
    "        probabilities_df['spine2'] -= 1\n",
    "        probabilities_df['spine3'] -= 1\n",
    "        probabilities_df['spine4'] -= 1\n",
    "        \n",
    "\n",
    "\n",
    "for i in probabilities_df.columns:\n",
    "    if float(probabilities_df[i]) > 80:\n",
    "        for j in (probabilities_df.columns):\n",
    "            probabilities_df.set_value(0,j,1)\n",
    "        \n",
    "        probabilities_df.set_value(0,i,88) \n",
    "    if float(probabilities_df[i]) < 1:\n",
    "        probabilities_df.set_value(0,i,1)\n",
    "        \n",
    "bargraph=probabilities_df.iloc[-1].plot(kind='bar', title=\"Failure Probabilites(%)\", figsize=(10,5), legend=True, fontsize=12)"
   ]
  },
  {
   "cell_type": "code",
   "execution_count": null,
   "metadata": {
    "collapsed": true
   },
   "outputs": [],
   "source": [
    "percentage_change_for_leaf7=[0]\n",
    "i=0\n",
    "while i < max(input_and_output_test['leaf7'].dropna().index):\n",
    "    for j in input_and_output_test['leaf7'].dropna().index:\n",
    "        if j-i > 5000000000:\n",
    "            percentage_change_for_leaf7.append(((means_for_file2[7]-input_and_output_test.leaf7.dropna().loc[i:j].mean())/means_for_file2[7])*100)\n",
    "            break\n",
    "    i=j\n",
    "\n",
    "for i in range(2,len(percentage_change_for_leaf7)):\n",
    "    if float(percentage_change_for_leaf7[i]) < thresholds_for_no_failure[7]:\n",
    "        probabilities_df['No Failure'] += 1.2\n",
    "        probabilities_df['leaf1'] -= 0.1\n",
    "        probabilities_df['leaf2'] -= 0.1\n",
    "        probabilities_df['leaf3'] -= 0.1\n",
    "        probabilities_df['leaf4'] -= 0.1\n",
    "        probabilities_df['leaf5'] -= 0.1\n",
    "        probabilities_df['leaf6'] -= 0.1\n",
    "        probabilities_df['leaf7'] -= 0.1\n",
    "        probabilities_df['leaf8'] -= 0.1\n",
    "        probabilities_df['spine1'] -= 0.1\n",
    "        probabilities_df['spine2'] -= 0.1\n",
    "        probabilities_df['spine3'] -= 0.1\n",
    "        probabilities_df['spine4'] -= 0.1\n",
    "        \n",
    "    if float(percentage_change_for_leaf7[i]) > thresholds_for_no_failure[7] and float(percentage_change_for_leaf7[i]) < thresholds_for_disturbance[7]:\n",
    "        probabilities_df['No Failure'] -= 1.2\n",
    "        probabilities_df['leaf1'] += 0.1\n",
    "        probabilities_df['leaf2'] += 0.1\n",
    "        probabilities_df['leaf3'] += 0.1\n",
    "        probabilities_df['leaf4'] += 0.1\n",
    "        probabilities_df['leaf5'] += 0.1\n",
    "        probabilities_df['leaf6'] += 0.1\n",
    "        probabilities_df['leaf7'] += 0.1\n",
    "        probabilities_df['leaf8'] += 0.1\n",
    "        probabilities_df['spine1'] += 0.1\n",
    "        probabilities_df['spine2'] += 0.1\n",
    "        probabilities_df['spine3'] += 0.1\n",
    "        probabilities_df['spine4'] += 0.1\n",
    "        \n",
    "    if float(percentage_change_for_leaf7[i]) > thresholds_for_disturbance[7]:\n",
    "        probabilities_df['No Failure'] -= 9\n",
    "        probabilities_df['leaf1'] -= 1\n",
    "        probabilities_df['leaf2'] -= 1\n",
    "        probabilities_df['leaf3'] -= 1\n",
    "        probabilities_df['leaf4'] -= 1\n",
    "        probabilities_df['leaf5'] -= 1\n",
    "        probabilities_df['leaf6'] -= 1\n",
    "        probabilities_df['leaf7'] += 20\n",
    "        probabilities_df['leaf8'] -= 1\n",
    "        probabilities_df['spine1'] -= 1\n",
    "        probabilities_df['spine2'] -= 1\n",
    "        probabilities_df['spine3'] -= 1\n",
    "        probabilities_df['spine4'] -= 1\n",
    "        \n",
    "\n",
    "\n",
    "for i in probabilities_df.columns:\n",
    "    if float(probabilities_df[i]) > 80:\n",
    "        for j in (probabilities_df.columns):\n",
    "            probabilities_df.set_value(0,j,1)\n",
    "        \n",
    "        probabilities_df.set_value(0,i,88) \n",
    "    if float(probabilities_df[i]) < 1:\n",
    "        probabilities_df.set_value(0,i,1)\n",
    "        \n",
    "bargraph=probabilities_df.iloc[-1].plot(kind='bar', title=\"Failure Probabilites(%)\", figsize=(10,5), legend=True, fontsize=12)"
   ]
  },
  {
   "cell_type": "code",
   "execution_count": null,
   "metadata": {
    "collapsed": true
   },
   "outputs": [],
   "source": [
    "percentage_change_for_leaf8=[0]\n",
    "i=0\n",
    "while i < max(input_and_output_test['leaf8'].dropna().index):\n",
    "    for j in input_and_output_test['leaf8'].dropna().index:\n",
    "        if j-i > 5000000000:\n",
    "            percentage_change_for_leaf8.append(((means_for_file2[8]-input_and_output_test.leaf8.dropna().loc[i:j].mean())/means_for_file2[8])*100)\n",
    "            break\n",
    "    i=j\n",
    "\n",
    "for i in range(2,len(percentage_change_for_leaf8)):\n",
    "    if float(percentage_change_for_leaf8[i]) < thresholds_for_no_failure[8]:\n",
    "        probabilities_df['No Failure'] += 1.2\n",
    "        probabilities_df['leaf1'] -= 0.1\n",
    "        probabilities_df['leaf2'] -= 0.1\n",
    "        probabilities_df['leaf3'] -= 0.1\n",
    "        probabilities_df['leaf4'] -= 0.1\n",
    "        probabilities_df['leaf5'] -= 0.1\n",
    "        probabilities_df['leaf6'] -= 0.1\n",
    "        probabilities_df['leaf7'] -= 0.1\n",
    "        probabilities_df['leaf8'] -= 0.1\n",
    "        probabilities_df['spine1'] -= 0.1\n",
    "        probabilities_df['spine2'] -= 0.1\n",
    "        probabilities_df['spine3'] -= 0.1\n",
    "        probabilities_df['spine4'] -= 0.1\n",
    "        \n",
    "    if float(percentage_change_for_leaf8[i]) > thresholds_for_no_failure[8] and float(percentage_change_for_leaf8[i]) < thresholds_for_disturbance[8]:\n",
    "        probabilities_df['No Failure'] -= 1.2\n",
    "        probabilities_df['leaf1'] += 0.1\n",
    "        probabilities_df['leaf2'] += 0.1\n",
    "        probabilities_df['leaf3'] += 0.1\n",
    "        probabilities_df['leaf4'] += 0.1\n",
    "        probabilities_df['leaf5'] += 0.1\n",
    "        probabilities_df['leaf6'] += 0.1\n",
    "        probabilities_df['leaf7'] += 0.1\n",
    "        probabilities_df['leaf8'] += 0.1\n",
    "        probabilities_df['spine1'] += 0.1\n",
    "        probabilities_df['spine2'] += 0.1\n",
    "        probabilities_df['spine3'] += 0.1\n",
    "        probabilities_df['spine4'] += 0.1\n",
    "        \n",
    "    if float(percentage_change_for_leaf8[i]) > thresholds_for_disturbance[8]:\n",
    "        probabilities_df['No Failure'] -= 9\n",
    "        probabilities_df['leaf1'] -= 1\n",
    "        probabilities_df['leaf2'] -= 1\n",
    "        probabilities_df['leaf3'] -= 1\n",
    "        probabilities_df['leaf4'] -= 1\n",
    "        probabilities_df['leaf5'] -= 1\n",
    "        probabilities_df['leaf6'] -= 1\n",
    "        probabilities_df['leaf7'] -= 1\n",
    "        probabilities_df['leaf8'] += 20\n",
    "        probabilities_df['spine1'] -= 1\n",
    "        probabilities_df['spine2'] -= 1\n",
    "        probabilities_df['spine3'] -= 1\n",
    "        probabilities_df['spine4'] -= 1\n",
    "        \n",
    "\n",
    "\n",
    "for i in probabilities_df.columns:\n",
    "    if float(probabilities_df[i]) > 80:\n",
    "        for j in (probabilities_df.columns):\n",
    "            probabilities_df.set_value(0,j,1)\n",
    "        \n",
    "        probabilities_df.set_value(0,i,88) \n",
    "    if float(probabilities_df[i]) < 1:\n",
    "        probabilities_df.set_value(0,i,1)\n",
    "        \n",
    "bargraph=probabilities_df.iloc[-1].plot(kind='bar', title=\"Failure Probabilites(%)\", figsize=(10,5), legend=True, fontsize=12)"
   ]
  },
  {
   "cell_type": "code",
   "execution_count": null,
   "metadata": {
    "collapsed": true
   },
   "outputs": [],
   "source": [
    "percentage_change_for_spine1=[0]\n",
    "i=0\n",
    "while i < max(input_and_output_test['spine1'].dropna().index):\n",
    "    for j in input_and_output_test['spine1'].dropna().index:\n",
    "        if j-i > 5000000000:\n",
    "            percentage_change_for_spine1.append(((means_for_file2[9]-input_and_output_test.spine1.dropna().loc[i:j].mean())/means_for_file2[9])*100)\n",
    "            break\n",
    "    i=j\n",
    "\n",
    "for i in range(2,len(percentage_change_for_spine1)):\n",
    "    if float(percentage_change_for_spine1[i]) < thresholds_for_no_failure[9]:\n",
    "        probabilities_df['No Failure'] += 1.2\n",
    "        probabilities_df['leaf1'] -= 0.1\n",
    "        probabilities_df['leaf2'] -= 0.1\n",
    "        probabilities_df['leaf3'] -= 0.1\n",
    "        probabilities_df['leaf4'] -= 0.1\n",
    "        probabilities_df['leaf5'] -= 0.1\n",
    "        probabilities_df['leaf6'] -= 0.1\n",
    "        probabilities_df['leaf7'] -= 0.1\n",
    "        probabilities_df['leaf8'] -= 0.1\n",
    "        probabilities_df['spine1'] -= 0.1\n",
    "        probabilities_df['spine2'] -= 0.1\n",
    "        probabilities_df['spine3'] -= 0.1\n",
    "        probabilities_df['spine4'] -= 0.1\n",
    "        \n",
    "    if float(percentage_change_for_spine1[i]) > thresholds_for_no_failure[9] and float(percentage_change_for_spine1[i]) < thresholds_for_disturbance[9]:\n",
    "        probabilities_df['No Failure'] -= 1.2\n",
    "        probabilities_df['leaf1'] += 0.1\n",
    "        probabilities_df['leaf2'] += 0.1\n",
    "        probabilities_df['leaf3'] += 0.1\n",
    "        probabilities_df['leaf4'] += 0.1\n",
    "        probabilities_df['leaf5'] += 0.1\n",
    "        probabilities_df['leaf6'] += 0.1\n",
    "        probabilities_df['leaf7'] += 0.1\n",
    "        probabilities_df['leaf8'] += 0.1\n",
    "        probabilities_df['spine1'] += 0.1\n",
    "        probabilities_df['spine2'] += 0.1\n",
    "        probabilities_df['spine3'] += 0.1\n",
    "        probabilities_df['spine4'] += 0.1\n",
    "        \n",
    "    if float(percentage_change_for_spine1[i]) > thresholds_for_disturbance[9]:\n",
    "        probabilities_df['No Failure'] -= 9\n",
    "        probabilities_df['leaf1'] -= 1\n",
    "        probabilities_df['leaf2'] -= 1\n",
    "        probabilities_df['leaf3'] -= 1\n",
    "        probabilities_df['leaf4'] -= 1\n",
    "        probabilities_df['leaf5'] -= 1\n",
    "        probabilities_df['leaf6'] -= 1\n",
    "        probabilities_df['leaf7'] -= 1\n",
    "        probabilities_df['leaf8'] -= 1\n",
    "        probabilities_df['spine1'] += 20\n",
    "        probabilities_df['spine2'] -= 1\n",
    "        probabilities_df['spine3'] -= 1\n",
    "        probabilities_df['spine4'] -= 1\n",
    "        \n",
    "\n",
    "\n",
    "for i in probabilities_df.columns:\n",
    "    if float(probabilities_df[i]) > 80:\n",
    "        for j in (probabilities_df.columns):\n",
    "            probabilities_df.set_value(0,j,1)\n",
    "        \n",
    "        probabilities_df.set_value(0,i,88) \n",
    "    if float(probabilities_df[i]) < 1:\n",
    "        probabilities_df.set_value(0,i,1)\n",
    "        \n",
    "bargraph=probabilities_df.iloc[-1].plot(kind='bar', title=\"Failure Probabilites(%)\", figsize=(10,5), legend=True, fontsize=12)"
   ]
  },
  {
   "cell_type": "code",
   "execution_count": null,
   "metadata": {
    "collapsed": true
   },
   "outputs": [],
   "source": [
    "percentage_change_for_spine2=[0]\n",
    "i=0\n",
    "while i < max(input_and_output_test['spine2'].dropna().index):\n",
    "    for j in input_and_output_test['spine2'].dropna().index:\n",
    "        if j-i > 5000000000:\n",
    "            percentage_change_for_spine2.append(((means_for_file2[10]-input_and_output_test.spine2.dropna().loc[i:j].mean())/means_for_file2[10])*100)\n",
    "            break\n",
    "    i=j\n",
    "\n",
    "for i in range(2,len(percentage_change_for_spine2)):\n",
    "    if float(percentage_change_for_spine2[i]) < thresholds_for_no_failure[10]:\n",
    "        probabilities_df['No Failure'] += 1.2\n",
    "        probabilities_df['leaf1'] -= 0.1\n",
    "        probabilities_df['leaf2'] -= 0.1\n",
    "        probabilities_df['leaf3'] -= 0.1\n",
    "        probabilities_df['leaf4'] -= 0.1\n",
    "        probabilities_df['leaf5'] -= 0.1\n",
    "        probabilities_df['leaf6'] -= 0.1\n",
    "        probabilities_df['leaf7'] -= 0.1\n",
    "        probabilities_df['leaf8'] -= 0.1\n",
    "        probabilities_df['spine1'] -= 0.1\n",
    "        probabilities_df['spine2'] -= 0.1\n",
    "        probabilities_df['spine3'] -= 0.1\n",
    "        probabilities_df['spine4'] -= 0.1\n",
    "        \n",
    "    if float(percentage_change_for_spine2[i]) > thresholds_for_no_failure[10] and float(percentage_change_for_spine2[i]) < thresholds_for_disturbance[10]:\n",
    "        probabilities_df['No Failure'] -= 1.2\n",
    "        probabilities_df['leaf1'] += 0.1\n",
    "        probabilities_df['leaf2'] += 0.1\n",
    "        probabilities_df['leaf3'] += 0.1\n",
    "        probabilities_df['leaf4'] += 0.1\n",
    "        probabilities_df['leaf5'] += 0.1\n",
    "        probabilities_df['leaf6'] += 0.1\n",
    "        probabilities_df['leaf7'] += 0.1\n",
    "        probabilities_df['leaf8'] += 0.1\n",
    "        probabilities_df['spine1'] += 0.1\n",
    "        probabilities_df['spine2'] += 0.1\n",
    "        probabilities_df['spine3'] += 0.1\n",
    "        probabilities_df['spine4'] += 0.1\n",
    "        \n",
    "    if float(percentage_change_for_spine2[i]) > thresholds_for_disturbance[10]:\n",
    "        probabilities_df['No Failure'] -= 9\n",
    "        probabilities_df['leaf1'] -= 1\n",
    "        probabilities_df['leaf2'] -= 1\n",
    "        probabilities_df['leaf3'] -= 1\n",
    "        probabilities_df['leaf4'] -= 1\n",
    "        probabilities_df['leaf5'] -= 1\n",
    "        probabilities_df['leaf6'] -= 1\n",
    "        probabilities_df['leaf7'] -= 1\n",
    "        probabilities_df['leaf8'] -= 1\n",
    "        probabilities_df['spine1'] -= 1\n",
    "        probabilities_df['spine2'] += 20\n",
    "        probabilities_df['spine3'] -= 1\n",
    "        probabilities_df['spine4'] -= 1\n",
    "        \n",
    "\n",
    "\n",
    "for i in probabilities_df.columns:\n",
    "    if float(probabilities_df[i]) > 80:\n",
    "        for j in (probabilities_df.columns):\n",
    "            probabilities_df.set_value(0,j,1)\n",
    "        \n",
    "        probabilities_df.set_value(0,i,88) \n",
    "    if float(probabilities_df[i]) < 1:\n",
    "        probabilities_df.set_value(0,i,1)\n",
    "        \n",
    "bargraph=probabilities_df.iloc[-1].plot(kind='bar', title=\"Failure Probabilites(%)\", figsize=(10,5), legend=True, fontsize=12)"
   ]
  },
  {
   "cell_type": "code",
   "execution_count": null,
   "metadata": {
    "collapsed": true
   },
   "outputs": [],
   "source": [
    "percentage_change_for_spine3=[0]\n",
    "i=0\n",
    "while i < max(input_and_output_test['spine3'].dropna().index):\n",
    "    for j in input_and_output_test['spine3'].dropna().index:\n",
    "        if j-i > 5000000000:\n",
    "            percentage_change_for_spine3.append(((means_for_file2[11]-input_and_output_test.spine3.dropna().loc[i:j].mean())/means_for_file2[11])*100)\n",
    "            break\n",
    "    i=j\n",
    "\n",
    "for i in range(2,len(percentage_change_for_spine3)):\n",
    "    if float(percentage_change_for_spine3[i]) < thresholds_for_no_failure[11]:\n",
    "        probabilities_df['No Failure'] += 1.2\n",
    "        probabilities_df['leaf1'] -= 0.1\n",
    "        probabilities_df['leaf2'] -= 0.1\n",
    "        probabilities_df['leaf3'] -= 0.1\n",
    "        probabilities_df['leaf4'] -= 0.1\n",
    "        probabilities_df['leaf5'] -= 0.1\n",
    "        probabilities_df['leaf6'] -= 0.1\n",
    "        probabilities_df['leaf7'] -= 0.1\n",
    "        probabilities_df['leaf8'] -= 0.1\n",
    "        probabilities_df['spine1'] -= 0.1\n",
    "        probabilities_df['spine2'] -= 0.1\n",
    "        probabilities_df['spine3'] -= 0.1\n",
    "        probabilities_df['spine4'] -= 0.1\n",
    "        \n",
    "    if float(percentage_change_for_spine3[i]) > thresholds_for_no_failure[11] and float(percentage_change_for_spine3[i]) < thresholds_for_disturbance[11]:\n",
    "        probabilities_df['No Failure'] -= 1.2\n",
    "        probabilities_df['leaf1'] += 0.1\n",
    "        probabilities_df['leaf2'] += 0.1\n",
    "        probabilities_df['leaf3'] += 0.1\n",
    "        probabilities_df['leaf4'] += 0.1\n",
    "        probabilities_df['leaf5'] += 0.1\n",
    "        probabilities_df['leaf6'] += 0.1\n",
    "        probabilities_df['leaf7'] += 0.1\n",
    "        probabilities_df['leaf8'] += 0.1\n",
    "        probabilities_df['spine1'] += 0.1\n",
    "        probabilities_df['spine2'] += 0.1\n",
    "        probabilities_df['spine3'] += 0.1\n",
    "        probabilities_df['spine4'] += 0.1\n",
    "        \n",
    "    if float(percentage_change_for_spine3[i]) > thresholds_for_disturbance[11]:\n",
    "        probabilities_df['No Failure'] -= 9\n",
    "        probabilities_df['leaf1'] -= 1\n",
    "        probabilities_df['leaf2'] -= 1\n",
    "        probabilities_df['leaf3'] -= 1\n",
    "        probabilities_df['leaf4'] -= 1\n",
    "        probabilities_df['leaf5'] -= 1\n",
    "        probabilities_df['leaf6'] -= 1\n",
    "        probabilities_df['leaf7'] -= 1\n",
    "        probabilities_df['leaf8'] -= 1\n",
    "        probabilities_df['spine1'] -= 1\n",
    "        probabilities_df['spine2'] -= 1\n",
    "        probabilities_df['spine3'] += 20\n",
    "        probabilities_df['spine4'] -= 1\n",
    "        \n",
    "\n",
    "\n",
    "for i in probabilities_df.columns:\n",
    "    if float(probabilities_df[i]) > 80:\n",
    "        for j in (probabilities_df.columns):\n",
    "            probabilities_df.set_value(0,j,1)\n",
    "        \n",
    "        probabilities_df.set_value(0,i,88) \n",
    "    if float(probabilities_df[i]) < 1:\n",
    "        probabilities_df.set_value(0,i,1)\n",
    "        \n",
    "bargraph=probabilities_df.iloc[-1].plot(kind='bar', title=\"Failure Probabilites(%)\", figsize=(10,5), legend=True, fontsize=12)"
   ]
  },
  {
   "cell_type": "code",
   "execution_count": null,
   "metadata": {
    "collapsed": true
   },
   "outputs": [],
   "source": [
    "percentage_change_for_spine4=[0]\n",
    "i=0\n",
    "while i < max(input_and_output_test['spine4'].dropna().index):\n",
    "    for j in input_and_output_test['spine4'].dropna().index:\n",
    "        if j-i > 5000000000:\n",
    "            percentage_change_for_spine4.append(((means_for_file2[12]-input_and_output_test.spine4.dropna().loc[i:j].mean())/means_for_file2[12])*100)\n",
    "            break\n",
    "    i=j\n",
    "\n",
    "for i in range(2,len(percentage_change_for_spine4)):\n",
    "    if float(percentage_change_for_spine4[i]) < thresholds_for_no_failure[12]:\n",
    "        probabilities_df['No Failure'] += 1.2\n",
    "        probabilities_df['leaf1'] -= 0.1\n",
    "        probabilities_df['leaf2'] -= 0.1\n",
    "        probabilities_df['leaf3'] -= 0.1\n",
    "        probabilities_df['leaf4'] -= 0.1\n",
    "        probabilities_df['leaf5'] -= 0.1\n",
    "        probabilities_df['leaf6'] -= 0.1\n",
    "        probabilities_df['leaf7'] -= 0.1\n",
    "        probabilities_df['leaf8'] -= 0.1\n",
    "        probabilities_df['spine1'] -= 0.1\n",
    "        probabilities_df['spine2'] -= 0.1\n",
    "        probabilities_df['spine3'] -= 0.1\n",
    "        probabilities_df['spine4'] -= 0.1\n",
    "        \n",
    "    if float(percentage_change_for_spine4[i]) > thresholds_for_no_failure[12] and float(percentage_change_for_spine4[i]) < thresholds_for_disturbance[12]:\n",
    "        probabilities_df['No Failure'] -= 1.2\n",
    "        probabilities_df['leaf1'] += 0.1\n",
    "        probabilities_df['leaf2'] += 0.1\n",
    "        probabilities_df['leaf3'] += 0.1\n",
    "        probabilities_df['leaf4'] += 0.1\n",
    "        probabilities_df['leaf5'] += 0.1\n",
    "        probabilities_df['leaf6'] += 0.1\n",
    "        probabilities_df['leaf7'] += 0.1\n",
    "        probabilities_df['leaf8'] += 0.1\n",
    "        probabilities_df['spine1'] += 0.1\n",
    "        probabilities_df['spine2'] += 0.1\n",
    "        probabilities_df['spine3'] += 0.1\n",
    "        probabilities_df['spine4'] += 0.1\n",
    "        \n",
    "    if float(percentage_change_for_spine4[i]) > thresholds_for_disturbance[12]:\n",
    "        probabilities_df['No Failure'] -= 9\n",
    "        probabilities_df['leaf1'] -= 1\n",
    "        probabilities_df['leaf2'] -= 1\n",
    "        probabilities_df['leaf3'] -= 1\n",
    "        probabilities_df['leaf4'] -= 1\n",
    "        probabilities_df['leaf5'] -= 1\n",
    "        probabilities_df['leaf6'] -= 1\n",
    "        probabilities_df['leaf7'] -= 1\n",
    "        probabilities_df['leaf8'] -= 1\n",
    "        probabilities_df['spine1'] -= 1\n",
    "        probabilities_df['spine2'] -= 1\n",
    "        probabilities_df['spine3'] -= 1\n",
    "        probabilities_df['spine4'] += 20\n",
    "        \n",
    "\n",
    "\n",
    "for i in probabilities_df.columns:\n",
    "    if float(probabilities_df[i]) > 80:\n",
    "        for j in (probabilities_df.columns):\n",
    "            probabilities_df.set_value(0,j,1)\n",
    "        \n",
    "        probabilities_df.set_value(0,i,88) \n",
    "    if float(probabilities_df[i]) < 1:\n",
    "        probabilities_df.set_value(0,i,1)\n",
    "        \n",
    "bargraph=probabilities_df.iloc[-1].plot(kind='bar', title=\"Failure Probabilites(%)\", figsize=(10,5), legend=True, fontsize=12)"
   ]
  },
  {
   "cell_type": "code",
   "execution_count": null,
   "metadata": {
    "collapsed": true
   },
   "outputs": [],
   "source": [
    "probabilities_df"
   ]
  },
  {
   "cell_type": "code",
   "execution_count": null,
   "metadata": {
    "collapsed": true
   },
   "outputs": [],
   "source": []
  },
  {
   "cell_type": "code",
   "execution_count": null,
   "metadata": {
    "collapsed": true
   },
   "outputs": [],
   "source": []
  },
  {
   "cell_type": "code",
   "execution_count": null,
   "metadata": {
    "collapsed": true
   },
   "outputs": [],
   "source": []
  },
  {
   "cell_type": "code",
   "execution_count": null,
   "metadata": {
    "collapsed": true
   },
   "outputs": [],
   "source": []
  },
  {
   "cell_type": "code",
   "execution_count": null,
   "metadata": {
    "collapsed": true
   },
   "outputs": [],
   "source": []
  },
  {
   "cell_type": "code",
   "execution_count": null,
   "metadata": {
    "collapsed": true
   },
   "outputs": [],
   "source": []
  },
  {
   "cell_type": "code",
   "execution_count": null,
   "metadata": {
    "collapsed": true
   },
   "outputs": [],
   "source": []
  },
  {
   "cell_type": "code",
   "execution_count": null,
   "metadata": {
    "collapsed": true
   },
   "outputs": [],
   "source": []
  },
  {
   "cell_type": "code",
   "execution_count": null,
   "metadata": {
    "collapsed": true
   },
   "outputs": [],
   "source": []
  },
  {
   "cell_type": "code",
   "execution_count": null,
   "metadata": {
    "collapsed": true
   },
   "outputs": [],
   "source": []
  },
  {
   "cell_type": "code",
   "execution_count": null,
   "metadata": {
    "collapsed": true
   },
   "outputs": [],
   "source": []
  },
  {
   "cell_type": "code",
   "execution_count": null,
   "metadata": {
    "collapsed": true
   },
   "outputs": [],
   "source": []
  },
  {
   "cell_type": "code",
   "execution_count": null,
   "metadata": {
    "collapsed": true
   },
   "outputs": [],
   "source": []
  },
  {
   "cell_type": "code",
   "execution_count": null,
   "metadata": {
    "collapsed": true
   },
   "outputs": [],
   "source": []
  },
  {
   "cell_type": "code",
   "execution_count": null,
   "metadata": {
    "collapsed": true
   },
   "outputs": [],
   "source": []
  },
  {
   "cell_type": "code",
   "execution_count": null,
   "metadata": {
    "collapsed": true
   },
   "outputs": [],
   "source": []
  },
  {
   "cell_type": "code",
   "execution_count": null,
   "metadata": {
    "collapsed": true
   },
   "outputs": [],
   "source": []
  },
  {
   "cell_type": "code",
   "execution_count": null,
   "metadata": {
    "collapsed": true
   },
   "outputs": [],
   "source": []
  },
  {
   "cell_type": "code",
   "execution_count": null,
   "metadata": {
    "collapsed": true
   },
   "outputs": [],
   "source": []
  },
  {
   "cell_type": "code",
   "execution_count": null,
   "metadata": {
    "collapsed": true
   },
   "outputs": [],
   "source": []
  },
  {
   "cell_type": "code",
   "execution_count": null,
   "metadata": {
    "collapsed": true
   },
   "outputs": [],
   "source": []
  },
  {
   "cell_type": "code",
   "execution_count": null,
   "metadata": {
    "collapsed": true
   },
   "outputs": [],
   "source": []
  },
  {
   "cell_type": "code",
   "execution_count": null,
   "metadata": {
    "collapsed": true
   },
   "outputs": [],
   "source": []
  },
  {
   "cell_type": "code",
   "execution_count": null,
   "metadata": {
    "collapsed": true
   },
   "outputs": [],
   "source": []
  },
  {
   "cell_type": "code",
   "execution_count": null,
   "metadata": {
    "collapsed": true
   },
   "outputs": [],
   "source": []
  },
  {
   "cell_type": "code",
   "execution_count": null,
   "metadata": {
    "collapsed": true
   },
   "outputs": [],
   "source": []
  },
  {
   "cell_type": "code",
   "execution_count": null,
   "metadata": {
    "collapsed": true
   },
   "outputs": [],
   "source": []
  },
  {
   "cell_type": "code",
   "execution_count": null,
   "metadata": {
    "collapsed": true
   },
   "outputs": [],
   "source": []
  },
  {
   "cell_type": "code",
   "execution_count": null,
   "metadata": {
    "collapsed": true
   },
   "outputs": [],
   "source": []
  },
  {
   "cell_type": "code",
   "execution_count": null,
   "metadata": {
    "collapsed": true
   },
   "outputs": [],
   "source": []
  },
  {
   "cell_type": "code",
   "execution_count": null,
   "metadata": {
    "collapsed": true
   },
   "outputs": [],
   "source": []
  },
  {
   "cell_type": "code",
   "execution_count": null,
   "metadata": {
    "collapsed": true
   },
   "outputs": [],
   "source": []
  },
  {
   "cell_type": "code",
   "execution_count": null,
   "metadata": {
    "collapsed": true
   },
   "outputs": [],
   "source": []
  },
  {
   "cell_type": "code",
   "execution_count": null,
   "metadata": {
    "collapsed": true
   },
   "outputs": [],
   "source": []
  },
  {
   "cell_type": "code",
   "execution_count": null,
   "metadata": {
    "collapsed": true
   },
   "outputs": [],
   "source": []
  },
  {
   "cell_type": "code",
   "execution_count": null,
   "metadata": {
    "collapsed": true
   },
   "outputs": [],
   "source": []
  },
  {
   "cell_type": "code",
   "execution_count": null,
   "metadata": {
    "collapsed": true
   },
   "outputs": [],
   "source": []
  },
  {
   "cell_type": "code",
   "execution_count": null,
   "metadata": {
    "collapsed": true
   },
   "outputs": [],
   "source": []
  },
  {
   "cell_type": "code",
   "execution_count": null,
   "metadata": {
    "collapsed": true
   },
   "outputs": [],
   "source": []
  },
  {
   "cell_type": "code",
   "execution_count": null,
   "metadata": {
    "collapsed": true
   },
   "outputs": [],
   "source": []
  },
  {
   "cell_type": "code",
   "execution_count": null,
   "metadata": {
    "collapsed": true
   },
   "outputs": [],
   "source": []
  },
  {
   "cell_type": "code",
   "execution_count": null,
   "metadata": {
    "collapsed": true
   },
   "outputs": [],
   "source": []
  },
  {
   "cell_type": "code",
   "execution_count": null,
   "metadata": {
    "collapsed": true
   },
   "outputs": [],
   "source": []
  },
  {
   "cell_type": "code",
   "execution_count": null,
   "metadata": {
    "collapsed": true
   },
   "outputs": [],
   "source": []
  },
  {
   "cell_type": "code",
   "execution_count": null,
   "metadata": {
    "collapsed": true
   },
   "outputs": [],
   "source": []
  },
  {
   "cell_type": "code",
   "execution_count": null,
   "metadata": {
    "collapsed": true
   },
   "outputs": [],
   "source": []
  },
  {
   "cell_type": "code",
   "execution_count": null,
   "metadata": {
    "collapsed": true
   },
   "outputs": [],
   "source": []
  },
  {
   "cell_type": "code",
   "execution_count": null,
   "metadata": {
    "collapsed": true
   },
   "outputs": [],
   "source": []
  },
  {
   "cell_type": "code",
   "execution_count": null,
   "metadata": {
    "collapsed": true
   },
   "outputs": [],
   "source": []
  },
  {
   "cell_type": "code",
   "execution_count": null,
   "metadata": {
    "collapsed": true
   },
   "outputs": [],
   "source": []
  }
 ],
 "metadata": {
  "kernelspec": {
   "display_name": "Python 3",
   "language": "python",
   "name": "python3"
  },
  "language_info": {
   "codemirror_mode": {
    "name": "ipython",
    "version": 3
   },
   "file_extension": ".py",
   "mimetype": "text/x-python",
   "name": "python",
   "nbconvert_exporter": "python",
   "pygments_lexer": "ipython3",
   "version": "3.6.2"
  }
 },
 "nbformat": 4,
 "nbformat_minor": 2
}
