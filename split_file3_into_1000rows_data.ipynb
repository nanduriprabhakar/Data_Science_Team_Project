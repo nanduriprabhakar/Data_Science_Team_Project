{
 "cells": [
  {
   "cell_type": "code",
   "execution_count": 1,
   "metadata": {
    "collapsed": true
   },
   "outputs": [],
   "source": [
    "import pandas as pd\n"
   ]
  },
  {
   "cell_type": "code",
   "execution_count": 2,
   "metadata": {
    "collapsed": true
   },
   "outputs": [],
   "source": [
    "raw_file=pd.read_csv('file_3_copy.csv',index_col='time')"
   ]
  },
  {
   "cell_type": "code",
   "execution_count": 3,
   "metadata": {
    "collapsed": true
   },
   "outputs": [],
   "source": [
    "test_file3_1=raw_file[0:1000]\n",
    "test_file3_2=raw_file[1000:2000]\n",
    "test_file3_3=raw_file[2000:3000]\n",
    "test_file3_4=raw_file[3000:4000]\n",
    "test_file3_5=raw_file[4000:5000]\n",
    "test_file3_6=raw_file[5000:6000]\n",
    "test_file3_7=raw_file[6000:7000]\n",
    "test_file3_8=raw_file[7000:8000]\n",
    "test_file3_9=raw_file[8000:9000]\n",
    "test_file3_10=raw_file[9000:10000]\n",
    "test_file3_11=raw_file[10000:11000]\n",
    "test_file3_12=raw_file[11000:1200]\n",
    "test_file3_13=raw_file[12000:13000]\n",
    "test_file3_14=raw_file[13000:14000]\n",
    "test_file3_15=raw_file[14000:15000]\n",
    "test_file3_16=raw_file[15000:16000]\n",
    "test_file3_17=raw_file[16000:17000]\n",
    "test_file3_18=raw_file[17000:18000]\n",
    "test_file3_19=raw_file[18000:19000]\n",
    "test_file3_20=raw_file[19000:20000]\n",
    "test_file3_21=raw_file[20000:21000]\n",
    "\n"
   ]
  },
  {
   "cell_type": "code",
   "execution_count": null,
   "metadata": {
    "collapsed": true
   },
   "outputs": [],
   "source": []
  }
 ],
 "metadata": {
  "kernelspec": {
   "display_name": "Python 3",
   "language": "python",
   "name": "python3"
  },
  "language_info": {
   "codemirror_mode": {
    "name": "ipython",
    "version": 3
   },
   "file_extension": ".py",
   "mimetype": "text/x-python",
   "name": "python",
   "nbconvert_exporter": "python",
   "pygments_lexer": "ipython3",
   "version": "3.6.2"
  }
 },
 "nbformat": 4,
 "nbformat_minor": 2
}
